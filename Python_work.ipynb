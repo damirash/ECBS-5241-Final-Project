{
 "cells": [
  {
   "cell_type": "markdown",
   "metadata": {},
   "source": [
    "<font size=\"5\"> Working with the GDP dataset and analyzing it: </font>"
   ]
  },
  {
   "cell_type": "code",
   "execution_count": 24,
   "metadata": {},
   "outputs": [],
   "source": [
    "# Show the information from the csv file in comprehensible format\n",
    "def show_gdp (filename):\n",
    "    import csv\n",
    "    with open(filename,'rt', encoding='utf-8-sig') as csv_file:\n",
    "        data = csv.reader(csv_file, delimiter=',', quotechar='|')\n",
    "        line_count = 0\n",
    "        for row in data:\n",
    "            if line_count == 0:\n",
    "                print(f'Column names are {\", \".join(row)}')\n",
    "                line_count += 1\n",
    "            elif (row[1] !=''):\n",
    "                print(f'\\t In year {row[0]}, {row[2]} had GDP per capita ${row[4]}.')\n",
    "                line_count += 1\n",
    "    print(f'In the sample {line_count-1} observations.')\n"
   ]
  },
  {
   "cell_type": "code",
   "execution_count": 25,
   "metadata": {},
   "outputs": [
    {
     "name": "stdout",
     "output_type": "stream",
     "text": [
      "Column names are Time, Time Code, Country Name, Country Code, \"GDP per capita,  PPP (current international $) [NY.GDP.PCAP.PP.CD]\"\n",
      "\t In year 2016, Albania had GDP per capita $12002.9318987545.\n",
      "\t In year 2016, Andorra had GDP per capita $...\n",
      "\t In year 2016, Armenia had GDP per capita $10704.2334081494.\n",
      "\t In year 2016, Austria had GDP per capita $52678.6606345863.\n",
      "\t In year 2016, Azerbaijan had GDP per capita $14371.0227410092.\n",
      "\t In year 2016, Belarus had GDP per capita $17725.7521791512.\n",
      "\t In year 2016, Belgium had GDP per capita $48592.4848069059.\n",
      "\t In year 2016, Bosnia and Herzegovina had GDP per capita $12990.0158085513.\n",
      "\t In year 2016, Bulgaria had GDP per capita $19893.8583514201.\n",
      "\t In year 2016, Channel Islands had GDP per capita $...\n",
      "\t In year 2016, Croatia had GDP per capita $24720.0937647817.\n",
      "\t In year 2016, Cyprus had GDP per capita $35388.8325255484.\n",
      "\t In year 2016, Czech Republic had GDP per capita $36094.0574904395.\n",
      "\t In year 2016, Denmark had GDP per capita $51970.7498002047.\n",
      "\t In year 2016, Estonia had GDP per capita $31573.8985888106.\n",
      "\t In year 2016, Faroe Islands had GDP per capita $...\n",
      "\t In year 2016, Finland had GDP per capita $44929.9087769937.\n",
      "\t In year 2016, France had GDP per capita $42920.2668185606.\n",
      "\t In year 2016, Georgia had GDP per capita $12858.4834001898.\n",
      "\t In year 2016, Germany had GDP per capita $50574.5767986754.\n",
      "\t In year 2016, Gibraltar had GDP per capita $...\n",
      "\t In year 2016, Greece had GDP per capita $27468.488116106.\n",
      "\t In year 2016, Greenland had GDP per capita $...\n",
      "\t In year 2016, Hungary had GDP per capita $27908.8454990716.\n",
      "\t In year 2016, Iceland had GDP per capita $53025.4395039993.\n",
      "\t In year 2016, Ireland had GDP per capita $71921.7170754105.\n",
      "\t In year 2016, Isle of Man had GDP per capita $...\n",
      "\t In year 2016, Italy had GDP per capita $39922.9084837436.\n",
      "\t In year 2016, Kazakhstan had GDP per capita $23818.8248260141.\n",
      "\t In year 2016, Kosovo had GDP per capita $10062.1082638998.\n",
      "\t In year 2016, Kyrgyz Republic had GDP per capita $4681.17473284248.\n",
      "\t In year 2016, Latvia had GDP per capita $26707.4570538424.\n",
      "\t In year 2016, Liechtenstein had GDP per capita $...\n",
      "\t In year 2016, Lithuania had GDP per capita $30922.1381608704.\n",
      "\t In year 2016, Luxembourg had GDP per capita $110649.696618163.\n",
      "\t In year 2016, Moldova had GDP per capita $10610.4778427993.\n",
      "\t In year 2016, Monaco had GDP per capita $...\n",
      "\t In year 2016, Montenegro had GDP per capita $18085.0297860497.\n",
      "\t In year 2016, Netherlands had GDP per capita $52283.156849093.\n",
      "\t In year 2016, North Macedonia had GDP per capita $14983.1664747054.\n",
      "\t In year 2016, Norway had GDP per capita $58933.9557759465.\n",
      "\t In year 2016, Poland had GDP per capita $28319.2470133041.\n",
      "\t In year 2016, Portugal had GDP per capita $31604.5463111482.\n",
      "\t In year 2016, Romania had GDP per capita $24118.9172018848.\n",
      "\t In year 2016, Russian Federation had GDP per capita $24125.3988633755.\n",
      "\t In year 2016, San Marino had GDP per capita $57453.8484832653.\n",
      "\t In year 2016, Serbia had GDP per capita $15758.4400524349.\n",
      "\t In year 2016, Slovak Republic had GDP per capita $29656.3660277574.\n",
      "\t In year 2016, Slovenia had GDP per capita $33932.6337842203.\n",
      "\t In year 2016, Spain had GDP per capita $37282.4425131921.\n",
      "\t In year 2016, Sweden had GDP per capita $50425.1546275414.\n",
      "\t In year 2016, Switzerland had GDP per capita $65720.146539051.\n",
      "\t In year 2016, Tajikistan had GDP per capita $3097.20202723291.\n",
      "\t In year 2016, Turkey had GDP per capita $26511.3873687795.\n",
      "\t In year 2016, Turkmenistan had GDP per capita $13866.3247180798.\n",
      "\t In year 2016, Ukraine had GDP per capita $11148.196546631.\n",
      "\t In year 2016, United Kingdom had GDP per capita $44145.576463153.\n",
      "\t In year 2016, Uzbekistan had GDP per capita $6452.92793779539.\n",
      "In the sample 58 observations.\n"
     ]
    }
   ],
   "source": [
    "show_gdp ('data/raw/GDP-Worldbank.csv')"
   ]
  },
  {
   "cell_type": "markdown",
   "metadata": {},
   "source": [
    "<font size=\"3\"> As we can see, some of the countries in the dataset do not have GDP values. Let's make a dictionary from the countries that are missing GDP value: </font>"
   ]
  },
  {
   "cell_type": "code",
   "execution_count": 20,
   "metadata": {},
   "outputs": [],
   "source": [
    "# Read csv file as a list of lists\n",
    "def list_of_data (filename):  \n",
    "    from csv import reader\n",
    "    with open(filename,'rt', encoding='utf-8-sig') as csv_file:\n",
    "        csv_reader = reader(csv_file)\n",
    "        list_of_rows = list(csv_reader)\n",
    "    return list_of_rows"
   ]
  },
  {
   "cell_type": "code",
   "execution_count": 21,
   "metadata": {},
   "outputs": [],
   "source": [
    "# Make a dictionary of missing observations a list of lists:\n",
    "def countries_missing_gdp (listfile):\n",
    "    i=0\n",
    "    counter = {}\n",
    "    for listfile[i] in listfile:\n",
    "        if listfile[i][4] == '..':\n",
    "            counter[listfile[i][2]]= 1  \n",
    "        i=i+1\n",
    "    return counter"
   ]
  },
  {
   "cell_type": "code",
   "execution_count": 22,
   "metadata": {},
   "outputs": [],
   "source": [
    "gdp_list = list_of_data('data/raw/GDP-Worldbank.csv')"
   ]
  },
  {
   "cell_type": "code",
   "execution_count": 23,
   "metadata": {},
   "outputs": [
    {
     "data": {
      "text/plain": [
       "{'Andorra': 1,\n",
       " 'Channel Islands': 1,\n",
       " 'Faroe Islands': 1,\n",
       " 'Gibraltar': 1,\n",
       " 'Greenland': 1,\n",
       " 'Isle of Man': 1,\n",
       " 'Liechtenstein': 1,\n",
       " 'Monaco': 1}"
      ]
     },
     "execution_count": 23,
     "metadata": {},
     "output_type": "execute_result"
    }
   ],
   "source": [
    "countries_missing_gdp(gdp_list)"
   ]
  },
  {
   "cell_type": "markdown",
   "metadata": {},
   "source": [
    "<font size=\"3\"> As we can see, 8 of the countries in the dataset do not have GDP values. We will need to drop these observations while working in Stata  </font>"
   ]
  },
  {
   "cell_type": "code",
   "execution_count": null,
   "metadata": {},
   "outputs": [],
   "source": []
  }
 ],
 "metadata": {
  "kernelspec": {
   "display_name": "Python 3",
   "language": "python",
   "name": "python3"
  },
  "language_info": {
   "codemirror_mode": {
    "name": "ipython",
    "version": 3
   },
   "file_extension": ".py",
   "mimetype": "text/x-python",
   "name": "python",
   "nbconvert_exporter": "python",
   "pygments_lexer": "ipython3",
   "version": "3.8.3"
  }
 },
 "nbformat": 4,
 "nbformat_minor": 4
}
